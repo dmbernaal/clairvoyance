{
 "cells": [
  {
   "cell_type": "markdown",
   "metadata": {},
   "source": [
    "## Clairvoyance Training + Experimentation\n",
    "We will be experimenting with clairvoyance training (new), while experimenting with our tabular model"
   ]
  },
  {
   "cell_type": "code",
   "execution_count": 1,
   "metadata": {},
   "outputs": [],
   "source": [
    "from clairvoyance import *\n",
    "from annealing import *\n",
    "from functools import partial\n",
    "\n",
    "torch.cuda.set_device(0)"
   ]
  },
  {
   "cell_type": "code",
   "execution_count": 2,
   "metadata": {},
   "outputs": [
    {
     "data": {
      "text/plain": [
       "[WindowsPath('C:/Users/dmber/.fastai/data/adult_sample/adult.csv'),\n",
       " WindowsPath('C:/Users/dmber/.fastai/data/adult_sample/adult_clairovyance.csv'),\n",
       " WindowsPath('C:/Users/dmber/.fastai/data/adult_sample/export.pkl'),\n",
       " WindowsPath('C:/Users/dmber/.fastai/data/adult_sample/models')]"
      ]
     },
     "execution_count": 2,
     "metadata": {},
     "output_type": "execute_result"
    }
   ],
   "source": [
    "path = untar_data(URLs.ADULT_SAMPLE)\n",
    "path.ls()"
   ]
  },
  {
   "cell_type": "code",
   "execution_count": 3,
   "metadata": {},
   "outputs": [],
   "source": [
    "csv_file = (path/'adult.csv')\n",
    "df = pd.read_csv(csv_file)\n",
    "df_clean = df.dropna().copy()\n",
    "df_clean.reset_index(inplace=True)\n",
    "df_clean.drop('index', axis=1, inplace=True)"
   ]
  },
  {
   "cell_type": "code",
   "execution_count": 4,
   "metadata": {},
   "outputs": [],
   "source": [
    "dep_var = 'salary'\n",
    "cont_names = ['education-num', 'hours-per-week', 'age', 'capital-loss', 'fnlwgt', 'capital-gain']\n",
    "cat_names = ['workclass', 'education', 'marital-status', 'occupation', 'relationship', 'race', 'sex', 'native-country']"
   ]
  },
  {
   "cell_type": "code",
   "execution_count": 5,
   "metadata": {},
   "outputs": [],
   "source": [
    "dataset = create_tabular_dataset(df_clean, cont_names);"
   ]
  },
  {
   "cell_type": "code",
   "execution_count": 6,
   "metadata": {},
   "outputs": [],
   "source": [
    "bs = 64\n",
    "dataloader = DataLoader(dataset, batch_size=bs, shuffle=True, num_workers=1)"
   ]
  },
  {
   "cell_type": "markdown",
   "metadata": {},
   "source": [
    "### Training our autoencoder"
   ]
  },
  {
   "cell_type": "code",
   "execution_count": 9,
   "metadata": {},
   "outputs": [
    {
     "name": "stdout",
     "output_type": "stream",
     "text": [
      "epoch [1/5], loss:0.0025\n",
      "epoch [2/5], loss:0.0014\n",
      "epoch [3/5], loss:0.0166\n",
      "epoch [4/5], loss:0.0026\n",
      "epoch [5/5], loss:0.0050\n"
     ]
    }
   ],
   "source": [
    "\"\"\" \n",
    "Architecture Design:\n",
    "    Over Complete Sparse Autoencoder, \n",
    "    Linearly De-Scaled Complexity,\n",
    "    Selu Act,\n",
    "\n",
    "Training & Optimization:\n",
    "    Ranger Optimization, \n",
    "    One Cycle Training\n",
    "\n",
    "\"\"\"\n",
    "# Hyper\n",
    "alpha = 0.98  # higher than baseline\n",
    "mom = 0.94    # higher than baseline\n",
    "wd = 1e-4\n",
    "eps = 1e-6\n",
    "lr = 1e-2\n",
    "sparse_reg = 1e-3\n",
    "ps = 0.\n",
    "encoder_type = 'over'\n",
    "act = 'selu'\n",
    "\n",
    "# model\n",
    "ni, nf = get_nfs(dataloader)\n",
    "nfs = [ni+1,nf+1] # less model complexity\n",
    "model = create_autoencoder(dataloader, nfs, act=act, ps=ps, encoder_type=encoder_type)\n",
    "\n",
    "# optimizer\n",
    "opt_func = partial(Ranger, params=model.parameters(), betas=(mom, alpha), eps=eps, weight_decay=wd, lr=lr)\n",
    "optimizer = opt_func()\n",
    "\n",
    "# # trainiing autoencoder: Experiment with hyper above\n",
    "train_sparse_autoencoder_one_cycle(dataloader, model, optimizer, max_lr=lr, num_epochs=5, sparse_reg=sparse_reg)"
   ]
  },
  {
   "cell_type": "code",
   "execution_count": 11,
   "metadata": {},
   "outputs": [],
   "source": [
    "# new dataset\n",
    "original_df = df_clean.copy()"
   ]
  },
  {
   "cell_type": "code",
   "execution_count": 12,
   "metadata": {},
   "outputs": [],
   "source": [
    "df_final = augmented_mult(dataloader, model, original_df=original_df, dep_var=dep_var, cat_names=cat_names, mult=5)"
   ]
  },
  {
   "cell_type": "code",
   "execution_count": 14,
   "metadata": {},
   "outputs": [],
   "source": [
    "final_path = (path/'adult_clairovyance.csv')\n",
    "df_final.to_csv(final_path, index=False)"
   ]
  },
  {
   "cell_type": "markdown",
   "metadata": {},
   "source": [
    "## Classifier BaseLine"
   ]
  },
  {
   "cell_type": "code",
   "execution_count": 3,
   "metadata": {},
   "outputs": [],
   "source": [
    "from tabular import *\n",
    "from annealing import *"
   ]
  },
  {
   "cell_type": "code",
   "execution_count": 4,
   "metadata": {},
   "outputs": [],
   "source": [
    "df = pd.read_csv(path/'adult_clairovyance.csv') # spelled incorrect"
   ]
  },
  {
   "cell_type": "code",
   "execution_count": 5,
   "metadata": {},
   "outputs": [
    {
     "data": {
      "text/plain": [
       "'age fnlwgt education-num capital-gain capital-loss hours-per-week v0 v1 v2 v3 v4 v5 v6 v7 v8 v9 v10 v11 v12 v13 v14 v15 v16 v17 v18 v19 v20 v21 v22 v23 v24 v25 v26 v27 v28 v29 v30 v31 v32 v33 v34 v35 v36 v37 v38 v39 v40 v41 v42 v43 v44 v45 v46 v47 workclass education marital-status occupation relationship race sex native-country salary'"
      ]
     },
     "execution_count": 5,
     "metadata": {},
     "output_type": "execute_result"
    }
   ],
   "source": [
    "' '.join(list(df.columns.values))"
   ]
  },
  {
   "cell_type": "code",
   "execution_count": 6,
   "metadata": {},
   "outputs": [],
   "source": [
    "def get_all_cont(df, dep_var, cat_names, original_cont):\n",
    "    all_columns = list(df.columns.values)\n",
    "    all_but_clairvoyance = cat_names + original_cont + [dep_var]\n",
    "    \n",
    "    for col in all_but_clairvoyance:\n",
    "        all_columns.remove(col)\n",
    "    \n",
    "    return all_columns + original_cont"
   ]
  },
  {
   "cell_type": "code",
   "execution_count": 7,
   "metadata": {},
   "outputs": [],
   "source": [
    "# grabbing our var names\n",
    "dep_var = 'salary'\n",
    "cat_names = ['workclass', 'education', 'marital-status', 'occupation', 'relationship', 'race', 'sex', 'native-country']\n",
    "original_cont = ['education-num', 'hours-per-week', 'age', 'capital-loss', 'fnlwgt', 'capital-gain']\n",
    "\n",
    "cont_names = get_all_cont(df, dep_var, cat_names, original_cont)"
   ]
  },
  {
   "cell_type": "code",
   "execution_count": 8,
   "metadata": {},
   "outputs": [],
   "source": [
    "# setting our procs for our databunch object\n",
    "procs = [FillMissing, Categorify, Normalize]"
   ]
  },
  {
   "cell_type": "code",
   "execution_count": 9,
   "metadata": {},
   "outputs": [],
   "source": [
    "def get_data(bs, path=path, cat_names=cat_names, cont_names=cont_names, dep_var=dep_var, procs=procs):\n",
    "    return (TabularList.from_df(df, path=path, cat_names=cat_names, cont_names=cont_names, procs=procs)\n",
    "            .split_by_rand_pct(0.1, seed=42)\n",
    "            .label_from_df(cols=dep_var)\n",
    "            .databunch(bs=bs, num_workers=1))"
   ]
  },
  {
   "cell_type": "code",
   "execution_count": 10,
   "metadata": {},
   "outputs": [],
   "source": [
    "# use this to get new dataset for classifier\n",
    "# getting data: bs = 64\n",
    "bs = 64\n",
    "data = get_data(bs)"
   ]
  },
  {
   "cell_type": "code",
   "execution_count": 19,
   "metadata": {},
   "outputs": [],
   "source": [
    "# hyper parameters\n",
    "epochs = 5\n",
    "alpha = 0.97\n",
    "mom = 0.93\n",
    "eps = 1e-3\n",
    "ann_start = 0.78\n",
    "wd = 1e-5\n",
    "emb_drop = 0.5\n",
    "\n",
    "# opt, loss\n",
    "optimizer = partial(Ranger, betas=(mom, alpha), eps=eps)\n",
    "loss_func = FlattenedLoss(LabelSmoothingCrossEntropy)\n",
    "\n",
    "# model\n",
    "nfs = [2000, 1000]\n",
    "m = create_tabular_model(data, nfs, act='selu', emb_drop=emb_drop)\n",
    "\n",
    "learn = (Learner(data,\n",
    "                 m,\n",
    "                 wd=wd,\n",
    "                 opt_func=optimizer,\n",
    "                 loss_func=loss_func,\n",
    "                 metrics=[accuracy]\n",
    "                ))\n",
    "learn.to_fp16();"
   ]
  },
  {
   "cell_type": "code",
   "execution_count": 20,
   "metadata": {},
   "outputs": [
    {
     "data": {
      "text/html": [
       "<table border=\"1\" class=\"dataframe\">\n",
       "  <thead>\n",
       "    <tr style=\"text-align: left;\">\n",
       "      <th>epoch</th>\n",
       "      <th>train_loss</th>\n",
       "      <th>valid_loss</th>\n",
       "      <th>accuracy</th>\n",
       "      <th>time</th>\n",
       "    </tr>\n",
       "  </thead>\n",
       "  <tbody>\n",
       "    <tr>\n",
       "      <td>0</td>\n",
       "      <td>0.437461</td>\n",
       "      <td>0.432762</td>\n",
       "      <td>0.839997</td>\n",
       "      <td>00:47</td>\n",
       "    </tr>\n",
       "    <tr>\n",
       "      <td>1</td>\n",
       "      <td>0.431953</td>\n",
       "      <td>0.426399</td>\n",
       "      <td>0.842009</td>\n",
       "      <td>00:48</td>\n",
       "    </tr>\n",
       "    <tr>\n",
       "      <td>2</td>\n",
       "      <td>0.419324</td>\n",
       "      <td>0.421457</td>\n",
       "      <td>0.848673</td>\n",
       "      <td>00:50</td>\n",
       "    </tr>\n",
       "    <tr>\n",
       "      <td>3</td>\n",
       "      <td>0.422418</td>\n",
       "      <td>0.420360</td>\n",
       "      <td>0.850057</td>\n",
       "      <td>00:49</td>\n",
       "    </tr>\n",
       "    <tr>\n",
       "      <td>4</td>\n",
       "      <td>0.426601</td>\n",
       "      <td>0.419694</td>\n",
       "      <td>0.848925</td>\n",
       "      <td>00:49</td>\n",
       "    </tr>\n",
       "    <tr>\n",
       "      <td>5</td>\n",
       "      <td>0.416720</td>\n",
       "      <td>0.415445</td>\n",
       "      <td>0.853514</td>\n",
       "      <td>00:50</td>\n",
       "    </tr>\n",
       "    <tr>\n",
       "      <td>6</td>\n",
       "      <td>0.417107</td>\n",
       "      <td>0.418410</td>\n",
       "      <td>0.849051</td>\n",
       "      <td>00:49</td>\n",
       "    </tr>\n",
       "    <tr>\n",
       "      <td>7</td>\n",
       "      <td>0.422351</td>\n",
       "      <td>0.416778</td>\n",
       "      <td>0.850685</td>\n",
       "      <td>00:49</td>\n",
       "    </tr>\n",
       "    <tr>\n",
       "      <td>8</td>\n",
       "      <td>0.418133</td>\n",
       "      <td>0.414575</td>\n",
       "      <td>0.851880</td>\n",
       "      <td>00:50</td>\n",
       "    </tr>\n",
       "    <tr>\n",
       "      <td>9</td>\n",
       "      <td>0.422925</td>\n",
       "      <td>0.413756</td>\n",
       "      <td>0.851251</td>\n",
       "      <td>00:49</td>\n",
       "    </tr>\n",
       "  </tbody>\n",
       "</table>"
      ],
      "text/plain": [
       "<IPython.core.display.HTML object>"
      ]
     },
     "metadata": {},
     "output_type": "display_data"
    }
   ],
   "source": [
    "lr = 1e-4\n",
    "epochs = 10\n",
    "fit_with_annealing(learn, epochs, lr, ann_start)"
   ]
  },
  {
   "cell_type": "markdown",
   "metadata": {},
   "source": [
    "## BatchNorm Experimentation"
   ]
  },
  {
   "cell_type": "code",
   "execution_count": 55,
   "metadata": {},
   "outputs": [],
   "source": [
    "#export\n",
    "def tabular_bn_layer(ni, nf, act, bn_order=1):\n",
    "    \"\"\"\n",
    "    1: after act\n",
    "    2: before act\n",
    "    \"\"\"\n",
    "    if act=='relu': act_fn = nn.ReLU(inplace=True)\n",
    "    elif act=='mish': act_fn = Mish()\n",
    "    elif act=='selu': act_fn = Selu()\n",
    "        \n",
    "    bias = False\n",
    "    \n",
    "    layers = [nn.Linear(ni, nf, bias=bias), act_fn, nn.BatchNorm1d(nf, eps=1e-5, momentum=0.1)] if bn_order else [nn.Linear(ni, nf, bias=bias), nn.BatchNorm1d(nf, eps=1e-5, momentum=0.1), act_fn]\n",
    "    \n",
    "    return nn.Sequential(*layers)"
   ]
  },
  {
   "cell_type": "code",
   "execution_count": 56,
   "metadata": {},
   "outputs": [],
   "source": [
    "# hyper parameters\n",
    "epochs = 5\n",
    "alpha = 0.97\n",
    "mom = 0.93\n",
    "eps = 1e-3\n",
    "ann_start = 0.78\n",
    "wd = 1e-5\n",
    "emb_drop = 0.5\n",
    "\n",
    "# opt, loss\n",
    "optimizer = partial(Ranger, betas=(mom, alpha), eps=eps)\n",
    "loss_func = FlattenedLoss(LabelSmoothingCrossEntropy)\n",
    "\n",
    "# model\n",
    "nfs = [500, 100]\n",
    "m = create_tabular_model(data, nfs, act='mish', emb_drop=emb_drop, layer=partial(tabular_bn_layer, bn_order=0))\n",
    "\n",
    "learn = (Learner(data,\n",
    "                 m,\n",
    "                 wd=wd,\n",
    "                 opt_func=optimizer,\n",
    "                 loss_func=loss_func,\n",
    "                 metrics=[accuracy]\n",
    "                ))\n",
    "learn.to_fp16();"
   ]
  },
  {
   "cell_type": "code",
   "execution_count": 57,
   "metadata": {},
   "outputs": [
    {
     "data": {
      "text/plain": [
       "Tabular(\n",
       "  (embeds): ModuleList(\n",
       "    (0): Embedding(10, 6)\n",
       "    (1): Embedding(17, 8)\n",
       "    (2): Embedding(8, 5)\n",
       "    (3): Embedding(16, 8)\n",
       "    (4): Embedding(7, 5)\n",
       "    (5): Embedding(6, 4)\n",
       "    (6): Embedding(3, 3)\n",
       "    (7): Embedding(43, 13)\n",
       "  )\n",
       "  (emb_drop): Dropout(p=0.5, inplace=False)\n",
       "  (bn_cont): BatchNorm1d(54, eps=1e-05, momentum=0.1, affine=True, track_running_stats=True)\n",
       "  (layers): Sequential(\n",
       "    (0): Sequential(\n",
       "      (0): Linear(in_features=106, out_features=500, bias=False)\n",
       "      (1): BatchNorm1d(500, eps=1e-05, momentum=0.1, affine=True, track_running_stats=True)\n",
       "      (2): Mish()\n",
       "    )\n",
       "    (1): Sequential(\n",
       "      (0): Linear(in_features=500, out_features=100, bias=False)\n",
       "      (1): BatchNorm1d(100, eps=1e-05, momentum=0.1, affine=True, track_running_stats=True)\n",
       "      (2): Mish()\n",
       "    )\n",
       "    (2): Linear(in_features=100, out_features=2, bias=True)\n",
       "  )\n",
       ")"
      ]
     },
     "execution_count": 57,
     "metadata": {},
     "output_type": "execute_result"
    }
   ],
   "source": [
    "learn.model"
   ]
  },
  {
   "cell_type": "code",
   "execution_count": 58,
   "metadata": {},
   "outputs": [
    {
     "data": {
      "text/html": [],
      "text/plain": [
       "<IPython.core.display.HTML object>"
      ]
     },
     "metadata": {},
     "output_type": "display_data"
    },
    {
     "name": "stdout",
     "output_type": "stream",
     "text": [
      "set state called\n",
      "LR Finder is complete, type {learner_name}.recorder.plot() to see the graph.\n"
     ]
    },
    {
     "data": {
      "image/png": "[encoded data removed]",
      "text/plain": [
       "<Figure size 432x288 with 1 Axes>"
      ]
     },
     "metadata": {
      "needs_background": "light"
     },
     "output_type": "display_data"
    }
   ],
   "source": [
    "learn.lr_find(); learn.recorder.plot()"
   ]
  },
  {
   "cell_type": "code",
   "execution_count": 48,
   "metadata": {},
   "outputs": [
    {
     "data": {
      "text/html": [
       "<table border=\"1\" class=\"dataframe\">\n",
       "  <thead>\n",
       "    <tr style=\"text-align: left;\">\n",
       "      <th>epoch</th>\n",
       "      <th>train_loss</th>\n",
       "      <th>valid_loss</th>\n",
       "      <th>accuracy</th>\n",
       "      <th>time</th>\n",
       "    </tr>\n",
       "  </thead>\n",
       "  <tbody>\n",
       "    <tr>\n",
       "      <td>0</td>\n",
       "      <td>0.429025</td>\n",
       "      <td>0.422395</td>\n",
       "      <td>0.850308</td>\n",
       "      <td>00:55</td>\n",
       "    </tr>\n",
       "    <tr>\n",
       "      <td>1</td>\n",
       "      <td>0.417071</td>\n",
       "      <td>0.416490</td>\n",
       "      <td>0.851754</td>\n",
       "      <td>01:06</td>\n",
       "    </tr>\n",
       "    <tr>\n",
       "      <td>2</td>\n",
       "      <td>0.412448</td>\n",
       "      <td>0.413873</td>\n",
       "      <td>0.853514</td>\n",
       "      <td>00:59</td>\n",
       "    </tr>\n",
       "    <tr>\n",
       "      <td>3</td>\n",
       "      <td>0.419704</td>\n",
       "      <td>0.415757</td>\n",
       "      <td>0.853389</td>\n",
       "      <td>00:59</td>\n",
       "    </tr>\n",
       "    <tr>\n",
       "      <td>4</td>\n",
       "      <td>0.418652</td>\n",
       "      <td>0.413079</td>\n",
       "      <td>0.853326</td>\n",
       "      <td>00:54</td>\n",
       "    </tr>\n",
       "  </tbody>\n",
       "</table>"
      ],
      "text/plain": [
       "<IPython.core.display.HTML object>"
      ]
     },
     "metadata": {},
     "output_type": "display_data"
    }
   ],
   "source": [
    "\"\"\"\n",
    "act_fn = selu\n",
    "lr = 1e-2\n",
    "bn_order = 0\n",
    "\n",
    "epochs = 5\n",
    "alpha = 0.97\n",
    "mom = 0.93\n",
    "eps = 1e-3\n",
    "ann_start = 0.78\n",
    "wd = 1e-5\n",
    "emb_drop = 0.5\n",
    "\n",
    "\"\"\"\n",
    "\n",
    "lr = 1e-2\n",
    "epochs = 5\n",
    "# fit_with_annealing(learn, epochs, lr, ann_start)\n",
    "learn.fit(5, lr)"
   ]
  },
  {
   "cell_type": "code",
   "execution_count": null,
   "metadata": {},
   "outputs": [],
   "source": [
    "\"\"\"\n",
    "nb: Train this setting for longer: 10, 20 epochs\n",
    "    Reached 85.7 accuracy in 5 epochs\n",
    "    Learned at a linear pace\n",
    "\n",
    "act_fn = relu\n",
    "lr = 1e-1\n",
    "bn_order = 0\n",
    "\n",
    "epochs = 5\n",
    "alpha = 0.97\n",
    "mom = 0.93\n",
    "eps = 1e-3\n",
    "ann_start = 0.78\n",
    "wd = 1e-5\n",
    "emb_drop = 0.5\n",
    "\n",
    "\"\"\"\n",
    "\n",
    "lr = 1e-1\n",
    "epochs = 5\n",
    "# fit_with_annealing(learn, epochs, lr, ann_start)\n",
    "learn.fit_one_cycle(5, lr)"
   ]
  },
  {
   "cell_type": "code",
   "execution_count": 59,
   "metadata": {},
   "outputs": [
    {
     "data": {
      "text/html": [
       "<table border=\"1\" class=\"dataframe\">\n",
       "  <thead>\n",
       "    <tr style=\"text-align: left;\">\n",
       "      <th>epoch</th>\n",
       "      <th>train_loss</th>\n",
       "      <th>valid_loss</th>\n",
       "      <th>accuracy</th>\n",
       "      <th>time</th>\n",
       "    </tr>\n",
       "  </thead>\n",
       "  <tbody>\n",
       "    <tr>\n",
       "      <td>0</td>\n",
       "      <td>0.428279</td>\n",
       "      <td>0.417440</td>\n",
       "      <td>0.851188</td>\n",
       "      <td>00:52</td>\n",
       "    </tr>\n",
       "    <tr>\n",
       "      <td>1</td>\n",
       "      <td>0.424712</td>\n",
       "      <td>0.414489</td>\n",
       "      <td>0.854457</td>\n",
       "      <td>00:54</td>\n",
       "    </tr>\n",
       "    <tr>\n",
       "      <td>2</td>\n",
       "      <td>0.423696</td>\n",
       "      <td>0.413998</td>\n",
       "      <td>0.852760</td>\n",
       "      <td>00:59</td>\n",
       "    </tr>\n",
       "    <tr>\n",
       "      <td>3</td>\n",
       "      <td>0.413190</td>\n",
       "      <td>0.418700</td>\n",
       "      <td>0.852886</td>\n",
       "      <td>01:03</td>\n",
       "    </tr>\n",
       "    <tr>\n",
       "      <td>4</td>\n",
       "      <td>0.410891</td>\n",
       "      <td>0.409736</td>\n",
       "      <td>0.856658</td>\n",
       "      <td>00:56</td>\n",
       "    </tr>\n",
       "  </tbody>\n",
       "</table>"
      ],
      "text/plain": [
       "<IPython.core.display.HTML object>"
      ]
     },
     "metadata": {},
     "output_type": "display_data"
    }
   ],
   "source": [
    "\"\"\"\n",
    "\n",
    "nb: Train this setting for longer: 10, 20 epochs\n",
    "    Reached 85.6 accuracy in 5 epochs\n",
    "    Learned at a linear pace\n",
    "\n",
    "act_fn = mish\n",
    "lr = 1e-1\n",
    "bn_order = 0\n",
    "\n",
    "epochs = 5\n",
    "alpha = 0.97\n",
    "mom = 0.93\n",
    "eps = 1e-3\n",
    "ann_start = 0.78\n",
    "wd = 1e-5\n",
    "emb_drop = 0.5\n",
    "\n",
    "\"\"\"\n",
    "\n",
    "lr = 1e-1\n",
    "epochs = 5\n",
    "# fit_with_annealing(learn, epochs, lr, ann_start)\n",
    "fit_with_annealing(learn, epochs, lr, ann_start)"
   ]
  },
  {
   "cell_type": "markdown",
   "metadata": {},
   "source": [
    "### Testing withour SeLU Init"
   ]
  },
  {
   "cell_type": "code",
   "execution_count": 64,
   "metadata": {},
   "outputs": [],
   "source": [
    "def init_nn(m, init_type):\n",
    "    if getattr(m, 'bias', None) is not None: nn.init.constant_(m.bias, 0) # for batchnorm layers\n",
    "    if isinstance(m, (nn.Linear)): \n",
    "        if init_type=='selu': nn.init.selu_normal_(m.weight)\n",
    "        elif init_type=='kaiming_norm': nn.init.kaiming_normal_(m.weight, a=1.)\n",
    "        elif init_type=='kaiming_uniform': nn.init.kaiming_uniform_(m.weight, a=1.)\n",
    "    for l in m.children(): init_nn(l, init_type)\n",
    "\n",
    "def create_tabular_model(data, nfs, layer=tabular_layer, act='relu', init_type='selu', **kwargs):\n",
    "    model = Tabular(data, nfs, layer, act, **kwargs)\n",
    "    init_nn(model, init_type)\n",
    "    return model"
   ]
  },
  {
   "cell_type": "code",
   "execution_count": 117,
   "metadata": {},
   "outputs": [],
   "source": [
    "# hyper parameters\n",
    "epochs = 5\n",
    "alpha = 0.99\n",
    "mom = 0.95\n",
    "eps = 1e-3\n",
    "ann_start = 0.78\n",
    "wd = 1e-4\n",
    "emb_drop = 0.5\n",
    "\n",
    "# opt, loss\n",
    "optimizer = partial(Ranger, betas=(mom, alpha), eps=eps)\n",
    "loss_func = FlattenedLoss(LabelSmoothingCrossEntropy)\n",
    "\n",
    "# model\n",
    "nfs = [500, 100]\n",
    "m = create_tabular_model(data, nfs, act='mish', emb_drop=emb_drop, init_type='kaiming_norm', layer=partial(tabular_bn_layer, bn_order=0))\n",
    "\n",
    "learn = (Learner(data,\n",
    "                 m,\n",
    "                 wd=wd,\n",
    "                 opt_func=optimizer,\n",
    "                 loss_func=loss_func,\n",
    "                 metrics=[accuracy]\n",
    "                ))\n",
    "learn.to_fp16();"
   ]
  },
  {
   "cell_type": "code",
   "execution_count": 118,
   "metadata": {},
   "outputs": [
    {
     "data": {
      "text/html": [],
      "text/plain": [
       "<IPython.core.display.HTML object>"
      ]
     },
     "metadata": {},
     "output_type": "display_data"
    },
    {
     "name": "stdout",
     "output_type": "stream",
     "text": [
      "set state called\n",
      "LR Finder is complete, type {learner_name}.recorder.plot() to see the graph.\n"
     ]
    },
    {
     "data": {
      "image/png": "[encoded data removed]",
      "text/plain": [
       "<Figure size 432x288 with 1 Axes>"
      ]
     },
     "metadata": {
      "needs_background": "light"
     },
     "output_type": "display_data"
    }
   ],
   "source": [
    "learn.lr_find(); learn.recorder.plot()"
   ]
  },
  {
   "cell_type": "code",
   "execution_count": 119,
   "metadata": {},
   "outputs": [
    {
     "data": {
      "text/plain": [
       "Tabular(\n",
       "  (embeds): ModuleList(\n",
       "    (0): Embedding(10, 6)\n",
       "    (1): Embedding(17, 8)\n",
       "    (2): Embedding(8, 5)\n",
       "    (3): Embedding(16, 8)\n",
       "    (4): Embedding(7, 5)\n",
       "    (5): Embedding(6, 4)\n",
       "    (6): Embedding(3, 3)\n",
       "    (7): Embedding(43, 13)\n",
       "  )\n",
       "  (emb_drop): Dropout(p=0.5, inplace=False)\n",
       "  (bn_cont): BatchNorm1d(54, eps=1e-05, momentum=0.1, affine=True, track_running_stats=True)\n",
       "  (layers): Sequential(\n",
       "    (0): Sequential(\n",
       "      (0): Linear(in_features=106, out_features=500, bias=False)\n",
       "      (1): BatchNorm1d(500, eps=1e-05, momentum=0.1, affine=True, track_running_stats=True)\n",
       "      (2): Mish()\n",
       "    )\n",
       "    (1): Sequential(\n",
       "      (0): Linear(in_features=500, out_features=100, bias=False)\n",
       "      (1): BatchNorm1d(100, eps=1e-05, momentum=0.1, affine=True, track_running_stats=True)\n",
       "      (2): Mish()\n",
       "    )\n",
       "    (2): Linear(in_features=100, out_features=2, bias=True)\n",
       "  )\n",
       ")"
      ]
     },
     "execution_count": 119,
     "metadata": {},
     "output_type": "execute_result"
    }
   ],
   "source": [
    "learn.model"
   ]
  },
  {
   "cell_type": "code",
   "execution_count": 77,
   "metadata": {},
   "outputs": [
    {
     "data": {
      "text/html": [
       "<table border=\"1\" class=\"dataframe\">\n",
       "  <thead>\n",
       "    <tr style=\"text-align: left;\">\n",
       "      <th>epoch</th>\n",
       "      <th>train_loss</th>\n",
       "      <th>valid_loss</th>\n",
       "      <th>accuracy</th>\n",
       "      <th>time</th>\n",
       "    </tr>\n",
       "  </thead>\n",
       "  <tbody>\n",
       "    <tr>\n",
       "      <td>0</td>\n",
       "      <td>0.428087</td>\n",
       "      <td>0.418985</td>\n",
       "      <td>0.851314</td>\n",
       "      <td>00:47</td>\n",
       "    </tr>\n",
       "    <tr>\n",
       "      <td>1</td>\n",
       "      <td>0.423873</td>\n",
       "      <td>0.416459</td>\n",
       "      <td>0.848233</td>\n",
       "      <td>00:48</td>\n",
       "    </tr>\n",
       "    <tr>\n",
       "      <td>2</td>\n",
       "      <td>0.418756</td>\n",
       "      <td>0.418129</td>\n",
       "      <td>0.853011</td>\n",
       "      <td>00:51</td>\n",
       "    </tr>\n",
       "    <tr>\n",
       "      <td>3</td>\n",
       "      <td>0.417623</td>\n",
       "      <td>0.415347</td>\n",
       "      <td>0.851314</td>\n",
       "      <td>00:50</td>\n",
       "    </tr>\n",
       "    <tr>\n",
       "      <td>4</td>\n",
       "      <td>0.405325</td>\n",
       "      <td>0.408871</td>\n",
       "      <td>0.859110</td>\n",
       "      <td>00:49</td>\n",
       "    </tr>\n",
       "  </tbody>\n",
       "</table>"
      ],
      "text/plain": [
       "<IPython.core.display.HTML object>"
      ]
     },
     "metadata": {},
     "output_type": "display_data"
    }
   ],
   "source": [
    "\"\"\"\n",
    "\n",
    "nb: \n",
    "\n",
    "act_fn = relu\n",
    "lr = 1e-1\n",
    "bn_order = 0\n",
    "\n",
    "epochs = 5\n",
    "alpha = 0.97\n",
    "mom = 0.93\n",
    "eps = 1e-3\n",
    "ann_start = 0.78\n",
    "wd = 1e-5\n",
    "emb_drop = 0.5\n",
    "\n",
    "\"\"\"\n",
    "\n",
    "lr = 1e-1\n",
    "epochs = 5\n",
    "# fit_with_annealing(learn, epochs, lr, ann_start)\n",
    "fit_with_annealing(learn, epochs, lr, ann_start)"
   ]
  },
  {
   "cell_type": "code",
   "execution_count": 92,
   "metadata": {},
   "outputs": [
    {
     "data": {
      "text/html": [
       "<table border=\"1\" class=\"dataframe\">\n",
       "  <thead>\n",
       "    <tr style=\"text-align: left;\">\n",
       "      <th>epoch</th>\n",
       "      <th>train_loss</th>\n",
       "      <th>valid_loss</th>\n",
       "      <th>accuracy</th>\n",
       "      <th>time</th>\n",
       "    </tr>\n",
       "  </thead>\n",
       "  <tbody>\n",
       "    <tr>\n",
       "      <td>0</td>\n",
       "      <td>0.417919</td>\n",
       "      <td>0.424998</td>\n",
       "      <td>0.848925</td>\n",
       "      <td>00:51</td>\n",
       "    </tr>\n",
       "    <tr>\n",
       "      <td>1</td>\n",
       "      <td>0.423695</td>\n",
       "      <td>0.424609</td>\n",
       "      <td>0.848171</td>\n",
       "      <td>00:52</td>\n",
       "    </tr>\n",
       "    <tr>\n",
       "      <td>2</td>\n",
       "      <td>0.416739</td>\n",
       "      <td>0.415067</td>\n",
       "      <td>0.852383</td>\n",
       "      <td>00:51</td>\n",
       "    </tr>\n",
       "    <tr>\n",
       "      <td>3</td>\n",
       "      <td>0.417132</td>\n",
       "      <td>0.418830</td>\n",
       "      <td>0.853389</td>\n",
       "      <td>00:52</td>\n",
       "    </tr>\n",
       "    <tr>\n",
       "      <td>4</td>\n",
       "      <td>0.416245</td>\n",
       "      <td>0.408824</td>\n",
       "      <td>0.857915</td>\n",
       "      <td>00:52</td>\n",
       "    </tr>\n",
       "  </tbody>\n",
       "</table>"
      ],
      "text/plain": [
       "<IPython.core.display.HTML object>"
      ]
     },
     "metadata": {},
     "output_type": "display_data"
    }
   ],
   "source": [
    "\"\"\"\n",
    "\n",
    "nb: \n",
    "\n",
    "act_fn = mish\n",
    "lr = 1e-1\n",
    "bn_order = 0\n",
    "\n",
    "epochs = 5\n",
    "alpha = 0.97\n",
    "mom = 0.93\n",
    "eps = 1e-3\n",
    "ann_start = 0.78\n",
    "wd = 1e-5\n",
    "emb_drop = 0.5\n",
    "\n",
    "\"\"\"\n",
    "\n",
    "lr = 1e-1\n",
    "epochs = 5\n",
    "# fit_with_annealing(learn, epochs, lr, ann_start)\n",
    "fit_with_annealing(learn, epochs, lr, ann_start)"
   ]
  },
  {
   "cell_type": "code",
   "execution_count": 94,
   "metadata": {},
   "outputs": [
    {
     "data": {
      "text/html": [
       "<table border=\"1\" class=\"dataframe\">\n",
       "  <thead>\n",
       "    <tr style=\"text-align: left;\">\n",
       "      <th>epoch</th>\n",
       "      <th>train_loss</th>\n",
       "      <th>valid_loss</th>\n",
       "      <th>accuracy</th>\n",
       "      <th>time</th>\n",
       "    </tr>\n",
       "  </thead>\n",
       "  <tbody>\n",
       "    <tr>\n",
       "      <td>0</td>\n",
       "      <td>0.427994</td>\n",
       "      <td>0.429170</td>\n",
       "      <td>0.838740</td>\n",
       "      <td>00:51</td>\n",
       "    </tr>\n",
       "    <tr>\n",
       "      <td>1</td>\n",
       "      <td>0.416397</td>\n",
       "      <td>0.418002</td>\n",
       "      <td>0.853263</td>\n",
       "      <td>00:49</td>\n",
       "    </tr>\n",
       "    <tr>\n",
       "      <td>2</td>\n",
       "      <td>0.418339</td>\n",
       "      <td>0.411480</td>\n",
       "      <td>0.857035</td>\n",
       "      <td>00:50</td>\n",
       "    </tr>\n",
       "    <tr>\n",
       "      <td>3</td>\n",
       "      <td>0.406817</td>\n",
       "      <td>0.413997</td>\n",
       "      <td>0.855086</td>\n",
       "      <td>00:54</td>\n",
       "    </tr>\n",
       "    <tr>\n",
       "      <td>4</td>\n",
       "      <td>0.412251</td>\n",
       "      <td>0.415118</td>\n",
       "      <td>0.853640</td>\n",
       "      <td>00:54</td>\n",
       "    </tr>\n",
       "    <tr>\n",
       "      <td>5</td>\n",
       "      <td>0.416337</td>\n",
       "      <td>0.410556</td>\n",
       "      <td>0.857538</td>\n",
       "      <td>00:50</td>\n",
       "    </tr>\n",
       "    <tr>\n",
       "      <td>6</td>\n",
       "      <td>0.421123</td>\n",
       "      <td>0.413795</td>\n",
       "      <td>0.856721</td>\n",
       "      <td>00:49</td>\n",
       "    </tr>\n",
       "    <tr>\n",
       "      <td>7</td>\n",
       "      <td>0.410597</td>\n",
       "      <td>0.410033</td>\n",
       "      <td>0.856155</td>\n",
       "      <td>00:49</td>\n",
       "    </tr>\n",
       "    <tr>\n",
       "      <td>8</td>\n",
       "      <td>0.410988</td>\n",
       "      <td>0.406738</td>\n",
       "      <td>0.861059</td>\n",
       "      <td>00:51</td>\n",
       "    </tr>\n",
       "    <tr>\n",
       "      <td>9</td>\n",
       "      <td>0.409994</td>\n",
       "      <td>0.406313</td>\n",
       "      <td>0.859927</td>\n",
       "      <td>00:50</td>\n",
       "    </tr>\n",
       "  </tbody>\n",
       "</table>"
      ],
      "text/plain": [
       "<IPython.core.display.HTML object>"
      ]
     },
     "metadata": {},
     "output_type": "display_data"
    }
   ],
   "source": [
    "\"\"\"\n",
    "\n",
    "bn: Train longer: BROKE SOTA, 86.1%\n",
    "\n",
    "act_fn = mish\n",
    "lr = 1e-1\n",
    "bn_order = 0\n",
    "\n",
    "epochs = 10\n",
    "alpha = 0.97\n",
    "mom = 0.93\n",
    "eps = 1e-3\n",
    "ann_start = 0.78\n",
    "wd = 1e-5\n",
    "emb_drop = 0.5\n",
    "\n",
    "\"\"\"\n",
    "\n",
    "lr = 1e-1\n",
    "epochs = 10\n",
    "# fit_with_annealing(learn, epochs, lr, ann_start)\n",
    "fit_with_annealing(learn, epochs, lr, ann_start)"
   ]
  },
  {
   "cell_type": "markdown",
   "metadata": {},
   "source": [
    "### Experimenting with dropout"
   ]
  },
  {
   "cell_type": "code",
   "execution_count": 144,
   "metadata": {},
   "outputs": [],
   "source": [
    "class Tabular(Module):\n",
    "    def __init__(self, data, nfs, layer, act, ps, emb_ps, **kwargs):\n",
    "        super().__init__()\n",
    "        \"\"\"\n",
    "        Will build our model layer by layer.\n",
    "        \"\"\"\n",
    "        # getting our embedding sizes\n",
    "        # TO DO: Have this dynamic, including user input for dim sz\n",
    "        self.emb_szs = data.get_emb_szs()\n",
    "        self.embeds = nn.ModuleList([embedding(ni, nf) for ni,nf in self.emb_szs])\n",
    "        self.n_emb = len(self.emb_szs)\n",
    "\n",
    "        # emb drop and encoder batchnorm\n",
    "        self.n_cont = len(data.cont_names) # number of cont vars\n",
    "        self.emb_drop = nn.Dropout(p=emb_ps) # TO DO: make this dynamic\n",
    "        self.bn_cont = nn.BatchNorm1d(self.n_cont)\n",
    "        \n",
    "        self.drop = nn.Dropout(p=ps)\n",
    "\n",
    "        # BODY: Body of the model\n",
    "        # creating initial ni\n",
    "            # ni = sum(emb(nf) + last_emb(ni*nf))\n",
    "        ni = calc_ni_in(self.emb_szs, self.n_cont)\n",
    "        self.nfs = [ni] + nfs # APPENDING\n",
    "\n",
    "        BODY = [layer(self.nfs[i], self.nfs[i+1], act, **kwargs) for i in range(len(self.nfs)-1)]\n",
    "\n",
    "        # HEAD: replace this for other task\n",
    "        # default: classification\n",
    "        HEAD = nn.Linear(nfs[-1], data.c)\n",
    "\n",
    "        self.layers = nn.Sequential(*BODY, HEAD)\n",
    "\n",
    "    def forward(self, x_cat, x_cont):\n",
    "        if self.n_emb != 0:\n",
    "            x = [e(x_cat[:,i]) for i,e in enumerate(self.embeds)]\n",
    "            x = torch.cat(x, 1)\n",
    "            x = self.emb_drop(x)\n",
    "        if self.n_cont != 0:\n",
    "            x_cont = self.bn_cont(x_cont)\n",
    "            x = torch.cat([x, x_cont], 1) if self.n_emb != 0 else x_cont\n",
    "        x = self.drop(self.layers(x))\n",
    "        return x\n",
    "        \n",
    "def create_tabular_model(data, nfs, layer=tabular_layer, act='relu', init_type='selu', emb_ps=0., ps=0.1, **kwargs):\n",
    "    model = Tabular(data, nfs, layer, act, ps, emb_ps, **kwargs)\n",
    "    init_nn(model, init_type)\n",
    "    return model"
   ]
  },
  {
   "cell_type": "code",
   "execution_count": 146,
   "metadata": {},
   "outputs": [],
   "source": [
    "nfs = [500, 100]\n",
    "m = create_tabular_model(data, nfs, act='mish', emb_ps=0.2, ps=0.1, init_type='kaiming_norm', layer=partial(tabular_bn_layer, bn_order=0))"
   ]
  },
  {
   "cell_type": "markdown",
   "metadata": {},
   "source": [
    "### Testing Dropout"
   ]
  },
  {
   "cell_type": "code",
   "execution_count": 190,
   "metadata": {},
   "outputs": [],
   "source": [
    "# hyper parameters\n",
    "epochs = 5\n",
    "alpha = 0.99\n",
    "mom = 0.95\n",
    "eps = 1e-3\n",
    "ann_start = 0.78\n",
    "wd = 1e-4\n",
    "emb_ps = 0.\n",
    "ps = 0.\n",
    "\n",
    "# opt, loss\n",
    "optimizer = partial(Ranger, betas=(mom, alpha), eps=eps)\n",
    "loss_func = FlattenedLoss(LabelSmoothingCrossEntropy)\n",
    "\n",
    "# model\n",
    "nfs = [500, 100]\n",
    "m = create_tabular_model(data, nfs, act='mish', emb_ps=emb_ps, ps=ps, init_type='kaiming_norm', layer=partial(tabular_bn_layer, bn_order=0))\n",
    "\n",
    "learn = (Learner(data,\n",
    "                 m,\n",
    "                 wd=wd,\n",
    "                 opt_func=optimizer,\n",
    "                 loss_func=loss_func,\n",
    "                 metrics=[accuracy]\n",
    "                ))\n",
    "learn.to_fp16();"
   ]
  },
  {
   "cell_type": "code",
   "execution_count": 191,
   "metadata": {},
   "outputs": [
    {
     "data": {
      "text/html": [],
      "text/plain": [
       "<IPython.core.display.HTML object>"
      ]
     },
     "metadata": {},
     "output_type": "display_data"
    },
    {
     "name": "stdout",
     "output_type": "stream",
     "text": [
      "set state called\n",
      "LR Finder is complete, type {learner_name}.recorder.plot() to see the graph.\n"
     ]
    },
    {
     "data": {
      "image/png": "[encoded data removed]",
      "text/plain": [
       "<Figure size 432x288 with 1 Axes>"
      ]
     },
     "metadata": {
      "needs_background": "light"
     },
     "output_type": "display_data"
    }
   ],
   "source": [
    "learn.lr_find(); learn.recorder.plot()"
   ]
  },
  {
   "cell_type": "code",
   "execution_count": 192,
   "metadata": {},
   "outputs": [
    {
     "data": {
      "text/html": [
       "<table border=\"1\" class=\"dataframe\">\n",
       "  <thead>\n",
       "    <tr style=\"text-align: left;\">\n",
       "      <th>epoch</th>\n",
       "      <th>train_loss</th>\n",
       "      <th>valid_loss</th>\n",
       "      <th>accuracy</th>\n",
       "      <th>time</th>\n",
       "    </tr>\n",
       "  </thead>\n",
       "  <tbody>\n",
       "    <tr>\n",
       "      <td>0</td>\n",
       "      <td>0.411598</td>\n",
       "      <td>0.416299</td>\n",
       "      <td>0.852949</td>\n",
       "      <td>00:50</td>\n",
       "    </tr>\n",
       "    <tr>\n",
       "      <td>1</td>\n",
       "      <td>0.426693</td>\n",
       "      <td>0.420799</td>\n",
       "      <td>0.851314</td>\n",
       "      <td>00:50</td>\n",
       "    </tr>\n",
       "    <tr>\n",
       "      <td>2</td>\n",
       "      <td>0.410951</td>\n",
       "      <td>0.414666</td>\n",
       "      <td>0.855212</td>\n",
       "      <td>00:51</td>\n",
       "    </tr>\n",
       "    <tr>\n",
       "      <td>3</td>\n",
       "      <td>0.416695</td>\n",
       "      <td>0.423992</td>\n",
       "      <td>0.847982</td>\n",
       "      <td>00:51</td>\n",
       "    </tr>\n",
       "    <tr>\n",
       "      <td>4</td>\n",
       "      <td>0.401413</td>\n",
       "      <td>0.407810</td>\n",
       "      <td>0.859738</td>\n",
       "      <td>00:51</td>\n",
       "    </tr>\n",
       "    <tr>\n",
       "      <td>5</td>\n",
       "      <td>0.414087</td>\n",
       "      <td>0.408680</td>\n",
       "      <td>0.860179</td>\n",
       "      <td>01:01</td>\n",
       "    </tr>\n",
       "    <tr>\n",
       "      <td>6</td>\n",
       "      <td>0.407666</td>\n",
       "      <td>0.412474</td>\n",
       "      <td>0.858795</td>\n",
       "      <td>01:02</td>\n",
       "    </tr>\n",
       "    <tr>\n",
       "      <td>7</td>\n",
       "      <td>0.402524</td>\n",
       "      <td>0.405750</td>\n",
       "      <td>0.858481</td>\n",
       "      <td>00:58</td>\n",
       "    </tr>\n",
       "    <tr>\n",
       "      <td>8</td>\n",
       "      <td>0.409541</td>\n",
       "      <td>0.407583</td>\n",
       "      <td>0.861247</td>\n",
       "      <td>00:57</td>\n",
       "    </tr>\n",
       "    <tr>\n",
       "      <td>9</td>\n",
       "      <td>0.405005</td>\n",
       "      <td>0.412390</td>\n",
       "      <td>0.858041</td>\n",
       "      <td>00:52</td>\n",
       "    </tr>\n",
       "    <tr>\n",
       "      <td>10</td>\n",
       "      <td>0.408936</td>\n",
       "      <td>0.402510</td>\n",
       "      <td>0.864139</td>\n",
       "      <td>00:52</td>\n",
       "    </tr>\n",
       "    <tr>\n",
       "      <td>11</td>\n",
       "      <td>0.398767</td>\n",
       "      <td>0.402588</td>\n",
       "      <td>0.858104</td>\n",
       "      <td>00:52</td>\n",
       "    </tr>\n",
       "    <tr>\n",
       "      <td>12</td>\n",
       "      <td>0.387476</td>\n",
       "      <td>0.397738</td>\n",
       "      <td>0.864705</td>\n",
       "      <td>00:51</td>\n",
       "    </tr>\n",
       "    <tr>\n",
       "      <td>13</td>\n",
       "      <td>0.374177</td>\n",
       "      <td>0.389841</td>\n",
       "      <td>0.872124</td>\n",
       "      <td>00:51</td>\n",
       "    </tr>\n",
       "    <tr>\n",
       "      <td>14</td>\n",
       "      <td>0.385210</td>\n",
       "      <td>0.388956</td>\n",
       "      <td>0.871684</td>\n",
       "      <td>00:52</td>\n",
       "    </tr>\n",
       "  </tbody>\n",
       "</table>"
      ],
      "text/plain": [
       "<IPython.core.display.HTML object>"
      ]
     },
     "metadata": {},
     "output_type": "display_data"
    }
   ],
   "source": [
    "\"\"\"\n",
    "\n",
    "bn: Train longer\n",
    "\n",
    "act_fn = mish\n",
    "lr = 1e-1\n",
    "bn_order = 0\n",
    "\n",
    "epochs = 15\n",
    "alpha = 0.99\n",
    "mom = 0.95\n",
    "eps = 1e-3\n",
    "ann_start = 0.78\n",
    "wd = 1e-4\n",
    "emb_ps = 0.\n",
    "ps = 0.\n",
    "\n",
    "\"\"\"\n",
    "\n",
    "lr = 1e-1\n",
    "epochs = 15\n",
    "# fit_with_annealing(learn, epochs, lr, ann_start)\n",
    "fit_with_annealing(learn, epochs, lr, ann_start)"
   ]
  },
  {
   "cell_type": "code",
   "execution_count": 194,
   "metadata": {},
   "outputs": [
    {
     "data": {
      "text/html": [],
      "text/plain": [
       "<IPython.core.display.HTML object>"
      ]
     },
     "metadata": {},
     "output_type": "display_data"
    },
    {
     "name": "stdout",
     "output_type": "stream",
     "text": [
      "set state called\n",
      "LR Finder is complete, type {learner_name}.recorder.plot() to see the graph.\n"
     ]
    },
    {
     "data": {
      "image/png": "[encoded data removed]",
      "text/plain": [
       "<Figure size 432x288 with 1 Axes>"
      ]
     },
     "metadata": {
      "needs_background": "light"
     },
     "output_type": "display_data"
    }
   ],
   "source": [
    "learn.freeze_to(-1)\n",
    "learn.lr_find()\n",
    "learn.recorder.plot()"
   ]
  },
  {
   "cell_type": "code",
   "execution_count": 195,
   "metadata": {},
   "outputs": [],
   "source": [
    "learn.save('m1_frozen')"
   ]
  },
  {
   "cell_type": "code",
   "execution_count": 196,
   "metadata": {},
   "outputs": [
    {
     "data": {
      "text/html": [
       "<table border=\"1\" class=\"dataframe\">\n",
       "  <thead>\n",
       "    <tr style=\"text-align: left;\">\n",
       "      <th>epoch</th>\n",
       "      <th>train_loss</th>\n",
       "      <th>valid_loss</th>\n",
       "      <th>accuracy</th>\n",
       "      <th>time</th>\n",
       "    </tr>\n",
       "  </thead>\n",
       "  <tbody>\n",
       "    <tr>\n",
       "      <td>0</td>\n",
       "      <td>0.379614</td>\n",
       "      <td>0.385724</td>\n",
       "      <td>0.871244</td>\n",
       "      <td>00:49</td>\n",
       "    </tr>\n",
       "    <tr>\n",
       "      <td>1</td>\n",
       "      <td>0.376971</td>\n",
       "      <td>0.386232</td>\n",
       "      <td>0.872187</td>\n",
       "      <td>00:51</td>\n",
       "    </tr>\n",
       "    <tr>\n",
       "      <td>2</td>\n",
       "      <td>0.365945</td>\n",
       "      <td>0.385894</td>\n",
       "      <td>0.873884</td>\n",
       "      <td>00:52</td>\n",
       "    </tr>\n",
       "    <tr>\n",
       "      <td>3</td>\n",
       "      <td>0.374200</td>\n",
       "      <td>0.385068</td>\n",
       "      <td>0.872312</td>\n",
       "      <td>00:52</td>\n",
       "    </tr>\n",
       "    <tr>\n",
       "      <td>4</td>\n",
       "      <td>0.369349</td>\n",
       "      <td>0.381790</td>\n",
       "      <td>0.873884</td>\n",
       "      <td>00:54</td>\n",
       "    </tr>\n",
       "  </tbody>\n",
       "</table>"
      ],
      "text/plain": [
       "<IPython.core.display.HTML object>"
      ]
     },
     "metadata": {},
     "output_type": "display_data"
    }
   ],
   "source": [
    "lr = 1e-2\n",
    "epochs = 5\n",
    "# fit_with_annealing(learn, epochs, lr, ann_start)\n",
    "fit_with_annealing(learn, epochs, lr, ann_start)"
   ]
  },
  {
   "cell_type": "code",
   "execution_count": null,
   "metadata": {},
   "outputs": [],
   "source": []
  },
  {
   "cell_type": "code",
   "execution_count": null,
   "metadata": {},
   "outputs": [],
   "source": []
  },
  {
   "cell_type": "code",
   "execution_count": null,
   "metadata": {},
   "outputs": [],
   "source": []
  },
  {
   "cell_type": "code",
   "execution_count": null,
   "metadata": {},
   "outputs": [],
   "source": []
  },
  {
   "cell_type": "code",
   "execution_count": null,
   "metadata": {},
   "outputs": [],
   "source": []
  },
  {
   "cell_type": "code",
   "execution_count": null,
   "metadata": {},
   "outputs": [],
   "source": []
  },
  {
   "cell_type": "code",
   "execution_count": null,
   "metadata": {},
   "outputs": [],
   "source": []
  },
  {
   "cell_type": "code",
   "execution_count": null,
   "metadata": {},
   "outputs": [],
   "source": []
  },
  {
   "cell_type": "code",
   "execution_count": null,
   "metadata": {},
   "outputs": [],
   "source": []
  },
  {
   "cell_type": "code",
   "execution_count": null,
   "metadata": {},
   "outputs": [],
   "source": []
  },
  {
   "cell_type": "code",
   "execution_count": null,
   "metadata": {},
   "outputs": [],
   "source": []
  },
  {
   "cell_type": "code",
   "execution_count": null,
   "metadata": {},
   "outputs": [],
   "source": []
  },
  {
   "cell_type": "code",
   "execution_count": null,
   "metadata": {},
   "outputs": [],
   "source": []
  },
  {
   "cell_type": "code",
   "execution_count": null,
   "metadata": {},
   "outputs": [],
   "source": []
  },
  {
   "cell_type": "code",
   "execution_count": null,
   "metadata": {},
   "outputs": [],
   "source": []
  },
  {
   "cell_type": "code",
   "execution_count": null,
   "metadata": {},
   "outputs": [],
   "source": []
  },
  {
   "cell_type": "code",
   "execution_count": null,
   "metadata": {},
   "outputs": [],
   "source": []
  },
  {
   "cell_type": "code",
   "execution_count": null,
   "metadata": {},
   "outputs": [],
   "source": []
  },
  {
   "cell_type": "code",
   "execution_count": null,
   "metadata": {},
   "outputs": [],
   "source": []
  },
  {
   "cell_type": "code",
   "execution_count": null,
   "metadata": {},
   "outputs": [],
   "source": []
  },
  {
   "cell_type": "code",
   "execution_count": null,
   "metadata": {},
   "outputs": [],
   "source": []
  },
  {
   "cell_type": "code",
   "execution_count": null,
   "metadata": {},
   "outputs": [],
   "source": []
  },
  {
   "cell_type": "code",
   "execution_count": null,
   "metadata": {},
   "outputs": [],
   "source": []
  },
  {
   "cell_type": "code",
   "execution_count": null,
   "metadata": {},
   "outputs": [],
   "source": []
  },
  {
   "cell_type": "code",
   "execution_count": null,
   "metadata": {},
   "outputs": [],
   "source": []
  },
  {
   "cell_type": "code",
   "execution_count": null,
   "metadata": {},
   "outputs": [],
   "source": []
  },
  {
   "cell_type": "code",
   "execution_count": null,
   "metadata": {},
   "outputs": [],
   "source": []
  },
  {
   "cell_type": "code",
   "execution_count": null,
   "metadata": {},
   "outputs": [],
   "source": []
  },
  {
   "cell_type": "code",
   "execution_count": null,
   "metadata": {},
   "outputs": [],
   "source": []
  },
  {
   "cell_type": "code",
   "execution_count": null,
   "metadata": {},
   "outputs": [],
   "source": []
  },
  {
   "cell_type": "code",
   "execution_count": null,
   "metadata": {},
   "outputs": [],
   "source": []
  }
 ],
 "metadata": {
  "kernelspec": {
   "display_name": "Python 3",
   "language": "python",
   "name": "python3"
  },
  "language_info": {
   "codemirror_mode": {
    "name": "ipython",
    "version": 3
   },
   "file_extension": ".py",
   "mimetype": "text/x-python",
   "name": "python",
   "nbconvert_exporter": "python",
   "pygments_lexer": "ipython3",
   "version": "3.7.3"
  }
 },
 "nbformat": 4,
 "nbformat_minor": 2
}
